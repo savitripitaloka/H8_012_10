{
 "cells": [
  {
   "cell_type": "markdown",
   "metadata": {},
   "source": [
    "## Fungsi Pada Python"
   ]
  },
  {
   "cell_type": "code",
   "execution_count": 3,
   "metadata": {},
   "outputs": [],
   "source": [
    "# fungsi sederhana\n",
    "def sapa():\n",
    "    \"Fungsi untuk print string yang ditulis dibawah ini\"\n",
    "    print(\"Halo peserta kursus Python\")\n",
    "    print(\"Dari program Kampus Merdeka\")"
   ]
  },
  {
   "cell_type": "code",
   "execution_count": 4,
   "metadata": {},
   "outputs": [
    {
     "name": "stdout",
     "output_type": "stream",
     "text": [
      "Halo peserta kursus Python\n",
      "Dari program Kampus Merdeka\n"
     ]
    }
   ],
   "source": [
    "# eksekusi fungsi\n",
    "sapa()"
   ]
  },
  {
   "cell_type": "code",
   "execution_count": 7,
   "metadata": {},
   "outputs": [],
   "source": [
    "# fungsi dengan satu argumen\n",
    "def sapa_nama(nama):\n",
    "    \"Fungsi untuk print string yang ditulis dibawah ini\"\n",
    "    print(f\"Halo {nama}\")\n",
    "    print(\"Dari program Kampus Merdeka\")"
   ]
  },
  {
   "cell_type": "code",
   "execution_count": 8,
   "metadata": {},
   "outputs": [
    {
     "name": "stdout",
     "output_type": "stream",
     "text": [
      "Halo Afif\n",
      "Dari program Kampus Merdeka\n"
     ]
    }
   ],
   "source": [
    "sapa_nama(\"Afif\")"
   ]
  },
  {
   "cell_type": "code",
   "execution_count": 12,
   "metadata": {},
   "outputs": [],
   "source": [
    "# fungsi lebih dari satu parameter\n",
    "def penjumlahan(angka1,angka2):\n",
    "    \"Fungsi ini akan menjumlahkan 2 angka yang dimasukkan kedalam fungsi\"\n",
    "    print(f\"Hasil dari {angka1} + {angka2} = {angka1 + angka2}\")"
   ]
  },
  {
   "cell_type": "code",
   "execution_count": 13,
   "metadata": {},
   "outputs": [
    {
     "name": "stdout",
     "output_type": "stream",
     "text": [
      "Hasil dari 10 + 9 = 19\n"
     ]
    }
   ],
   "source": [
    "penjumlahan(10,9)"
   ]
  },
  {
   "cell_type": "code",
   "execution_count": 14,
   "metadata": {},
   "outputs": [],
   "source": [
    "# fungsi yg mengembalikan nilai\n",
    "def penjumlahan_2(angka1,angka2):\n",
    "    \"Fungsi ini akan menjumlahkan 2 angka yang dimasukkan kedalam fungsi\"\n",
    "    return angka1 + angka2"
   ]
  },
  {
   "cell_type": "code",
   "execution_count": 15,
   "metadata": {},
   "outputs": [
    {
     "data": {
      "text/plain": [
       "19"
      ]
     },
     "execution_count": 15,
     "metadata": {},
     "output_type": "execute_result"
    }
   ],
   "source": [
    "penjumlahan_2(10,9)"
   ]
  },
  {
   "cell_type": "code",
   "execution_count": 16,
   "metadata": {},
   "outputs": [
    {
     "data": {
      "text/plain": [
       "38"
      ]
     },
     "execution_count": 16,
     "metadata": {},
     "output_type": "execute_result"
    }
   ],
   "source": [
    "hasil = penjumlahan_2(10,9)\n",
    "hasil * 2"
   ]
  },
  {
   "cell_type": "markdown",
   "metadata": {},
   "source": [
    "### Pass By Reference vs Value"
   ]
  },
  {
   "cell_type": "code",
   "execution_count": 17,
   "metadata": {},
   "outputs": [
    {
     "name": "stdout",
     "output_type": "stream",
     "text": [
      "7\n",
      "7\n"
     ]
    }
   ],
   "source": [
    "a = 7\n",
    "b = a\n",
    "\n",
    "print(a)\n",
    "print(b)"
   ]
  },
  {
   "cell_type": "code",
   "execution_count": 18,
   "metadata": {},
   "outputs": [
    {
     "data": {
      "text/plain": [
       "16"
      ]
     },
     "execution_count": 18,
     "metadata": {},
     "output_type": "execute_result"
    }
   ],
   "source": [
    "a = a + 9\n",
    "a"
   ]
  },
  {
   "cell_type": "code",
   "execution_count": 19,
   "metadata": {},
   "outputs": [],
   "source": [
    "a = [1,2,3]\n",
    "b = a"
   ]
  },
  {
   "cell_type": "code",
   "execution_count": 20,
   "metadata": {},
   "outputs": [
    {
     "data": {
      "text/plain": [
       "[100, 2, 3]"
      ]
     },
     "execution_count": 20,
     "metadata": {},
     "output_type": "execute_result"
    }
   ],
   "source": [
    "a[0] = 100\n",
    "a"
   ]
  },
  {
   "cell_type": "code",
   "execution_count": 21,
   "metadata": {},
   "outputs": [
    {
     "data": {
      "text/plain": [
       "[100, 2, 3]"
      ]
     },
     "execution_count": 21,
     "metadata": {},
     "output_type": "execute_result"
    }
   ],
   "source": [
    "b"
   ]
  },
  {
   "cell_type": "code",
   "execution_count": 24,
   "metadata": {},
   "outputs": [],
   "source": [
    "# required argument & positional argumen\n",
    "def biodata(nama, usia):\n",
    "    \"menampilkan nama dan usia\"\n",
    "    print(f\"Halo, nama saya {nama} dan usia saya {usia} tahun\")"
   ]
  },
  {
   "cell_type": "code",
   "execution_count": 25,
   "metadata": {},
   "outputs": [
    {
     "name": "stdout",
     "output_type": "stream",
     "text": [
      "Halo, nama saya Afif dan usia saya 17 tahun\n"
     ]
    }
   ],
   "source": [
    "# panggil fungsi dengan required argument (harus berurutan)\n",
    "biodata(\"Afif\", 17)"
   ]
  },
  {
   "cell_type": "code",
   "execution_count": 27,
   "metadata": {},
   "outputs": [
    {
     "name": "stdout",
     "output_type": "stream",
     "text": [
      "Halo, nama saya Afif dan usia saya 17 tahun\n"
     ]
    }
   ],
   "source": [
    "# panggil fungsi dengan keyword argumen (tidak harus berurutan tetapi keywordnya harus sesuai)\n",
    "biodata(usia = 17, nama = \"Afif\")"
   ]
  },
  {
   "cell_type": "code",
   "execution_count": 28,
   "metadata": {},
   "outputs": [],
   "source": [
    "# default argumen (harus di paling belakang, contohnya dibawah ini yaitu \"pekerjaan\")\n",
    "def biodata(nama, usia, pekerjaan = \"Data Scientist\"):\n",
    "    \"menampilkan nama dan usia\"\n",
    "    print(f\"Halo, nama saya {nama} dan usia saya {usia} tahun\")\n",
    "    print(f\"Pekerjaan saya adalah {pekerjaan}\")"
   ]
  },
  {
   "cell_type": "code",
   "execution_count": 29,
   "metadata": {},
   "outputs": [
    {
     "name": "stdout",
     "output_type": "stream",
     "text": [
      "Halo, nama saya Afif dan usia saya 17 tahun\n",
      "Pekerjaan saya adalah Data Scientist\n"
     ]
    }
   ],
   "source": [
    "biodata(\"Afif\", 17)"
   ]
  },
  {
   "cell_type": "code",
   "execution_count": 30,
   "metadata": {},
   "outputs": [
    {
     "name": "stdout",
     "output_type": "stream",
     "text": [
      "Halo, nama saya Afif dan usia saya 17 tahun\n",
      "Pekerjaan saya adalah DS Instructor\n"
     ]
    }
   ],
   "source": [
    "biodata(\"Afif\", 17, \"DS Instructor\")"
   ]
  },
  {
   "cell_type": "code",
   "execution_count": 36,
   "metadata": {},
   "outputs": [],
   "source": [
    "# variabel lenght function\n",
    "def penjumlahan(a,b,c):\n",
    "    res = a + b + c\n",
    "    return res"
   ]
  },
  {
   "cell_type": "code",
   "execution_count": 38,
   "metadata": {},
   "outputs": [
    {
     "data": {
      "text/plain": [
       "19"
      ]
     },
     "execution_count": 38,
     "metadata": {},
     "output_type": "execute_result"
    }
   ],
   "source": [
    "penjumlahan(10,5,4)"
   ]
  },
  {
   "cell_type": "code",
   "execution_count": 44,
   "metadata": {},
   "outputs": [],
   "source": [
    "# *args params in function (jumlah argumen tidak terbatas)\n",
    "def penjumlahan(*angka):\n",
    "    hasil = 0\n",
    "    for item in angka:\n",
    "        hasil += item\n",
    "    return hasil\n"
   ]
  },
  {
   "cell_type": "code",
   "execution_count": 45,
   "metadata": {},
   "outputs": [
    {
     "data": {
      "text/plain": [
       "10"
      ]
     },
     "execution_count": 45,
     "metadata": {},
     "output_type": "execute_result"
    }
   ],
   "source": [
    "penjumlahan(1,2,3,4)"
   ]
  },
  {
   "cell_type": "code",
   "execution_count": 50,
   "metadata": {},
   "outputs": [],
   "source": [
    "# **kwargs params in function\n",
    "def biodata(**data):\n",
    "    print(\"Biodata Pegawai\")\n",
    "    for k, v in data.items():\n",
    "        print(f\"{k}\\t: {v}\")"
   ]
  },
  {
   "cell_type": "code",
   "execution_count": 51,
   "metadata": {},
   "outputs": [
    {
     "name": "stdout",
     "output_type": "stream",
     "text": [
      "Biodata Pegawai\n",
      "nama\t: Afif\n",
      "usia\t: 17\n"
     ]
    }
   ],
   "source": [
    "biodata(nama = \"Afif\", usia = 17)"
   ]
  },
  {
   "cell_type": "markdown",
   "metadata": {},
   "source": [
    "### Global & Local Variable"
   ]
  },
  {
   "cell_type": "code",
   "execution_count": 54,
   "metadata": {},
   "outputs": [],
   "source": [
    "my_var = 'Hacktiv8'\n",
    "\n",
    "def fungsi_1():\n",
    "    print(f\"Jangan lupa subscribe channel {my_var}\")\n",
    "\n",
    "def fungsi_2():\n",
    "    print(f\"Memanggil var {my_var} dari fungsi 2\")"
   ]
  },
  {
   "cell_type": "code",
   "execution_count": 55,
   "metadata": {},
   "outputs": [
    {
     "name": "stdout",
     "output_type": "stream",
     "text": [
      "Memanggil var Hacktiv8 dari fungsi 2\n"
     ]
    }
   ],
   "source": [
    "fungsi_2()"
   ]
  },
  {
   "cell_type": "code",
   "execution_count": 56,
   "metadata": {},
   "outputs": [],
   "source": [
    "# Local Variable\n",
    "def fungsi_3():\n",
    "    nama = \"Afif\"\n",
    "    print(f\"nama saya {nama}\")\n",
    "    print(\"string diatas diprint didalam fungsi\")"
   ]
  },
  {
   "cell_type": "code",
   "execution_count": 57,
   "metadata": {},
   "outputs": [
    {
     "name": "stdout",
     "output_type": "stream",
     "text": [
      "nama saya Afif\n",
      "string diatas diprint didalam fungsi\n"
     ]
    }
   ],
   "source": [
    "fungsi_3()"
   ]
  },
  {
   "cell_type": "code",
   "execution_count": 1,
   "metadata": {},
   "outputs": [],
   "source": [
    "# cara import pertama\n",
    "import function"
   ]
  },
  {
   "cell_type": "code",
   "execution_count": 2,
   "metadata": {},
   "outputs": [
    {
     "data": {
      "text/plain": [
       "20"
      ]
     },
     "execution_count": 2,
     "metadata": {},
     "output_type": "execute_result"
    }
   ],
   "source": [
    "function.perkalian(4,5)"
   ]
  },
  {
   "cell_type": "code",
   "execution_count": 3,
   "metadata": {},
   "outputs": [
    {
     "data": {
      "text/plain": [
       "100"
      ]
     },
     "execution_count": 3,
     "metadata": {},
     "output_type": "execute_result"
    }
   ],
   "source": [
    "# cara import kedua\n",
    "import function as fx\n",
    "fx.perkalian(50,2)"
   ]
  },
  {
   "cell_type": "code",
   "execution_count": 4,
   "metadata": {},
   "outputs": [
    {
     "data": {
      "text/plain": [
       "500"
      ]
     },
     "execution_count": 4,
     "metadata": {},
     "output_type": "execute_result"
    }
   ],
   "source": [
    "# cara import ketiga\n",
    "from function import perkalian\n",
    "perkalian(100,5)"
   ]
  },
  {
   "cell_type": "markdown",
   "metadata": {},
   "source": [
    "## Catching Error"
   ]
  },
  {
   "cell_type": "code",
   "execution_count": 99,
   "metadata": {},
   "outputs": [
    {
     "name": "stdout",
     "output_type": "stream",
     "text": [
      "halo apa kabar\n",
      "2\n"
     ]
    }
   ],
   "source": [
    "try:\n",
    "    print(\"halo apa kabar\")\n",
    "except:\n",
    "    print(\"ada error di try\")\n",
    "print(1+1)"
   ]
  },
  {
   "cell_type": "code",
   "execution_count": 100,
   "metadata": {},
   "outputs": [
    {
     "data": {
      "text/plain": [
       "['In',\n",
       " 'Out',\n",
       " '_',\n",
       " '_15',\n",
       " '_16',\n",
       " '_18',\n",
       " '_20',\n",
       " '_21',\n",
       " '_32',\n",
       " '_34',\n",
       " '_35',\n",
       " '_37',\n",
       " '_38',\n",
       " '_45',\n",
       " '_59',\n",
       " '_60',\n",
       " '_62',\n",
       " '_64',\n",
       " '_66',\n",
       " '_71',\n",
       " '_72',\n",
       " '_73',\n",
       " '_75',\n",
       " '_77',\n",
       " '_79',\n",
       " '_80',\n",
       " '_89',\n",
       " '_91',\n",
       " '_95',\n",
       " '_96',\n",
       " '_97',\n",
       " '__',\n",
       " '___',\n",
       " '__builtin__',\n",
       " '__builtins__',\n",
       " '__doc__',\n",
       " '__loader__',\n",
       " '__name__',\n",
       " '__package__',\n",
       " '__spec__',\n",
       " '__vsc_ipynb_file__',\n",
       " '_dh',\n",
       " '_i',\n",
       " '_i1',\n",
       " '_i10',\n",
       " '_i100',\n",
       " '_i11',\n",
       " '_i12',\n",
       " '_i13',\n",
       " '_i14',\n",
       " '_i15',\n",
       " '_i16',\n",
       " '_i17',\n",
       " '_i18',\n",
       " '_i19',\n",
       " '_i2',\n",
       " '_i20',\n",
       " '_i21',\n",
       " '_i22',\n",
       " '_i23',\n",
       " '_i24',\n",
       " '_i25',\n",
       " '_i26',\n",
       " '_i27',\n",
       " '_i28',\n",
       " '_i29',\n",
       " '_i3',\n",
       " '_i30',\n",
       " '_i31',\n",
       " '_i32',\n",
       " '_i33',\n",
       " '_i34',\n",
       " '_i35',\n",
       " '_i36',\n",
       " '_i37',\n",
       " '_i38',\n",
       " '_i39',\n",
       " '_i4',\n",
       " '_i40',\n",
       " '_i41',\n",
       " '_i42',\n",
       " '_i43',\n",
       " '_i44',\n",
       " '_i45',\n",
       " '_i46',\n",
       " '_i47',\n",
       " '_i48',\n",
       " '_i49',\n",
       " '_i5',\n",
       " '_i50',\n",
       " '_i51',\n",
       " '_i52',\n",
       " '_i53',\n",
       " '_i54',\n",
       " '_i55',\n",
       " '_i56',\n",
       " '_i57',\n",
       " '_i58',\n",
       " '_i59',\n",
       " '_i6',\n",
       " '_i60',\n",
       " '_i61',\n",
       " '_i62',\n",
       " '_i63',\n",
       " '_i64',\n",
       " '_i65',\n",
       " '_i66',\n",
       " '_i67',\n",
       " '_i68',\n",
       " '_i69',\n",
       " '_i7',\n",
       " '_i70',\n",
       " '_i71',\n",
       " '_i72',\n",
       " '_i73',\n",
       " '_i74',\n",
       " '_i75',\n",
       " '_i76',\n",
       " '_i77',\n",
       " '_i78',\n",
       " '_i79',\n",
       " '_i8',\n",
       " '_i80',\n",
       " '_i81',\n",
       " '_i82',\n",
       " '_i83',\n",
       " '_i84',\n",
       " '_i85',\n",
       " '_i86',\n",
       " '_i87',\n",
       " '_i88',\n",
       " '_i89',\n",
       " '_i9',\n",
       " '_i90',\n",
       " '_i91',\n",
       " '_i92',\n",
       " '_i93',\n",
       " '_i94',\n",
       " '_i95',\n",
       " '_i96',\n",
       " '_i97',\n",
       " '_i98',\n",
       " '_i99',\n",
       " '_ih',\n",
       " '_ii',\n",
       " '_iii',\n",
       " '_oh',\n",
       " 'a',\n",
       " 'b',\n",
       " 'biodata',\n",
       " 'exit',\n",
       " 'function',\n",
       " 'fungsi',\n",
       " 'fungsi_1',\n",
       " 'fungsi_2',\n",
       " 'fungsi_3',\n",
       " 'fx',\n",
       " 'get_ipython',\n",
       " 'hasil',\n",
       " 'my_var',\n",
       " 'os',\n",
       " 'penjumlahan',\n",
       " 'penjumlahan_2',\n",
       " 'perkalian',\n",
       " 'quit',\n",
       " 'sapa',\n",
       " 'sapa_nama',\n",
       " 'sys']"
      ]
     },
     "execution_count": 100,
     "metadata": {},
     "output_type": "execute_result"
    }
   ],
   "source": [
    "dir()"
   ]
  },
  {
   "cell_type": "code",
   "execution_count": 105,
   "metadata": {},
   "outputs": [],
   "source": [
    "# Fungsi Rekursif\n",
    "def faktorial(n):\n",
    "    if n < 0:\n",
    "        print(\"Error, tidak bisa melakukan faktorial untuk angka negatif\")\n",
    "    elif n == 0 or n == 1:\n",
    "        return 1\n",
    "    else:\n",
    "        return n * faktorial(n-1)"
   ]
  },
  {
   "cell_type": "code",
   "execution_count": 106,
   "metadata": {},
   "outputs": [
    {
     "data": {
      "text/plain": [
       "120"
      ]
     },
     "execution_count": 106,
     "metadata": {},
     "output_type": "execute_result"
    }
   ],
   "source": [
    "faktorial(5)"
   ]
  },
  {
   "cell_type": "code",
   "execution_count": null,
   "metadata": {},
   "outputs": [],
   "source": []
  }
 ],
 "metadata": {
  "kernelspec": {
   "display_name": "Python 3.9.12 ('base')",
   "language": "python",
   "name": "python3"
  },
  "language_info": {
   "codemirror_mode": {
    "name": "ipython",
    "version": 3
   },
   "file_extension": ".py",
   "mimetype": "text/x-python",
   "name": "python",
   "nbconvert_exporter": "python",
   "pygments_lexer": "ipython3",
   "version": "3.9.12"
  },
  "orig_nbformat": 4,
  "vscode": {
   "interpreter": {
    "hash": "b0992ba04dbb4ba3933145389fe5d727f3bce345a3327f07e73072ad02ec5557"
   }
  }
 },
 "nbformat": 4,
 "nbformat_minor": 2
}
